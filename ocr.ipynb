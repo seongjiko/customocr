{
 "cells": [
  {
   "cell_type": "markdown",
   "metadata": {},
   "source": [
    "# 한국 SW중심대학 공동 AI 경진대회 <본선>\n",
    "## 최종코드 제출\n",
    "## Team: 한림대학교\n",
    "## private score: 5위\n",
    "* 안녕하세요, 한림대학교 팀입니다. 저희는 한림대학교 학부생 동기 5인으로 구성되어 있으며 대회에 참가하면서 좋은 경험을 했습니다. 감사합니다. 아래는 score 재현 방법입니다.\n",
    "---"
   ]
  },
  {
   "cell_type": "markdown",
   "metadata": {},
   "source": [
    "\n",
    "# 1. 기본 셋팅\n",
    "## 외부 사용 데이터\n",
    "## **아래 데이터셋을 `TIW` 으로 칭합니다.**\n",
    "[AIHUB: 한국어 글자체 이미지](https://aihub.or.kr/aihubdata/data/view.do?currMenu=115&topMenu=100&aihubDataSe=realm&dataSetSn=81) </br>\n",
    "\n",
    "## **아래 데이터셋을 `HUB` 으로 칭합니다.**\n",
    "[AIHUB: 야외 실제 촬영 한글 이미지](https://aihub.or.kr/aihubdata/data/view.do?currMenu=115&topMenu=100&aihubDataSe=realm&dataSetSn=105) </br>\n",
    "\n",
    "## **데이콘이 제공한 데이터셋을 `TRAIN`과 `TEST`로 칭합니다.**\n",
    "\n",
    "\n",
    "### 파일 경로 설정 방법: ./customocr\n",
    "├── <b>hallymocr: *학습에 필요한 모듈들*</b></br>\n",
    "│   ├── modules</br>\n",
    "│   │   └── \\_\\_pycache__</br>\n",
    "│   └── \\_\\_pycache__</br>\n",
    "├── images: *학습에 사용되는 이미지 파일*</br>\n",
    "│   ├── crop_tiw : *크롭된 `HUB` 이미지*</br>\n",
    "│   ├── crop_train : *크롭된 `TIW` 이미지*</br>\n",
    "│   ├── hub_train : *`HUB`이미지*</br>\n",
    "│   ├── test : *`TEST`이미지*</br>\n",
    "│   ├── tiw : *`TIW` 원본이미지*</br>\n",
    "│   └── train : *`TRAIN` 원본이미지*</br>\n",
    "├── labels: *라벨 및 이미지 정보가 담긴 json파일*</br>\n",
    "│   ├── hub_train : *`HUB` json파일*</br>\n",
    "│   └── tiw : *`TIW` json파일*</br>\n",
    "├── lmdb_gt: *lmdb생성을 위한 txt파일*</br>\n",
    "├── result: *생성된 lmdb파일*</br>\n",
    "│   ├── htrain: *`HUB` lmdb*</br>\n",
    "│   ├── tiw: *`TIW` lmdb*</br>\n",
    "│   ├── train: *`TRAIN[:-1000]`*</br>\n",
    "│   └── valid: *`TRAIN[-1000:]`*</br>\n",
    "├── saved_models: *모델 및 로그 저장*</br>\n",
    "│   └── TPS-ResNet-BiLSTM-Attn-Seed1111</br>\n",
    "├── <b>ocr.ipynb: *핵심 실행 파일(main)*</b></br>\n",
    "├── README.md</br>\n",
    "├── requirements.yaml</br>\n",
    "└── train_edit.csv: 수작업으로 정제된 `TRAIN` csv파일</br>\n",
    "\n",
    "\n",
    "## 1-1. git pull하기\n",
    "```linux\n",
    "git pull https://github.com/mhseo10/customocr\n",
    "```\n",
    "\n",
    "## 1-2. AI_HUB에서 데이터 다운로드 받기 </br>\n",
    "[한국어 글자체 이미지](https://aihub.or.kr/aihubdata/data/view.do?currMenu=115&topMenu=100&aihubDataSe=realm&dataSetSn=81) </br>\n",
    "[야외 실제 촬영 한글 이미지](https://aihub.or.kr/aihubdata/data/view.do?currMenu=115&topMenu=100&aihubDataSe=realm&dataSetSn=105)\n",
    "\n",
    "## 1-3. 이미지 및 json파일 저장 (★★)\n",
    "### 한국어 글자체 이미지 (`TIW`)\n",
    "- ★ 중요 ★4개의 카테고리중 `Text in the wild` 데이터셋만 사용\n",
    "- 이미지 파일:  `./images/tiw`에 저장하며, 이때 `Text in the wild`데이터 셋 안에 4개의 폴더가 있는데, 이를 각 폴더로 두지 않고 각 폴더안에 있는 image파일들을 `./tiw`에 한 곳으로 저장해야합니다.\n",
    "- json 파일: `TIW` 데이터셋은 하나의 json파일로 라벨링이 이루어져 있습니다.\n",
    "    - ex) 100만장의 image, 1개의 json파일\n",
    "    - 이때 json파일은 `textinthewild_data_info.json`입니다. \n",
    "    - `./labels/tiw`에 저장합니다.\n",
    "### 야외 실제 촬영 한글 이미지 (`HUB`)\n",
    "- `HUB`셋은 Train셋과 Validation셋이 존재하나 Train셋만 사용합니다.\n",
    "- 이미지 파일: `./images/hub_train`에 저장하며 이때 `TIW`와 다르게 다운된 폴더 구조 째로 넣어주시면 됩니다.\n",
    "- json 파일: KOREAN 데이터셋은 하나의 image에 하나의 json파일이 각각 매치되어있습니다.\n",
    "    - ex) 100만장의 image, 100만개의 json파일\n",
    "    - [원천]과 [라벨]로 이름이 지정되어있습니다. [원천]의 이름에 맞게 [라벨]에 json파일이 매치되어있습니다.\n",
    "    - `./labels/hub_train`에 저장합니다."
   ]
  },
  {
   "cell_type": "code",
   "execution_count": null,
   "metadata": {
    "collapsed": false,
    "jupyter": {
     "outputs_hidden": false
    }
   },
   "outputs": [],
   "source": [
    "# deep-text-recognition-benchmark의 dependency 설치\n",
    "# !pip install lmdb pillow torchvision nltk natsort fire"
   ]
  },
  {
   "cell_type": "code",
   "execution_count": null,
   "metadata": {
    "collapsed": false,
    "jupyter": {
     "outputs_hidden": false
    }
   },
   "outputs": [],
   "source": [
    "# 대회 목적에 맞게 수정한 ocr 클론\n",
    "# !git clone https://github.com/mhseo10/customocr.git"
   ]
  },
  {
   "cell_type": "markdown",
   "metadata": {},
   "source": [
    "## 2. AI허브 데이터셋 전처리\n",
    "`HUB`의 validation셋은 사용하지 않습니다."
   ]
  },
  {
   "cell_type": "code",
   "execution_count": 1,
   "metadata": {},
   "outputs": [],
   "source": [
    "hub_timg = './images/hub_train/'\n",
    "hub_tlabel = './labels/hub_train/' \n",
    "\n",
    "# hub_vimg = './images/hub_valid/'\n",
    "# hub_vlabel = './labels/hub_valid/'\n",
    "\n",
    "train_img = './images/train/'\n",
    "train_label = './labels/train/'\n",
    "\n",
    "tiw_img = './images/tiw/'\n",
    "tiw_label = './labels/tiw/'\n",
    "\n",
    "test_img = './images/test/'\n",
    "\n",
    "hub_tcrop = './images/crop_train/'\n",
    "hub_vcrop = './images/crop_valid/'\n",
    "tiw_crop = './images/crop_tiw/'\n",
    "\n",
    "lmdb_gt = './lmdb_gt/'"
   ]
  },
  {
   "cell_type": "markdown",
   "metadata": {
    "collapsed": false
   },
   "source": [
    "### 2-1. [한국어 글자체 이미지](https://aihub.or.kr/aihubdata/data/view.do?currMenu=115&topMenu=100&aihubDataSe=realm&dataSetSn=81)"
   ]
  },
  {
   "cell_type": "code",
   "execution_count": 29,
   "metadata": {
    "collapsed": false
   },
   "outputs": [],
   "source": [
    "import os\n",
    "import glob\n",
    "import json\n",
    "import natsort\n",
    "import pandas as pd\n",
    "\n",
    "from tqdm.auto import tqdm, trange\n",
    "from PIL import Image\n",
    "from PIL import ImageFile\n",
    "\n",
    "ImageFile.LOAD_TRUNCATED_IMAGES = True"
   ]
  },
  {
   "cell_type": "markdown",
   "metadata": {
    "collapsed": false
   },
   "source": [
    "### 파일 경로, 이미지, 라벨 추출"
   ]
  },
  {
   "cell_type": "code",
   "execution_count": 30,
   "metadata": {},
   "outputs": [],
   "source": [
    "data = json.load(open(tiw_label + 'textinthewild_data_info.json', encoding='utf8'))  # json 경로로 변경"
   ]
  },
  {
   "cell_type": "code",
   "execution_count": 31,
   "metadata": {},
   "outputs": [
    {
     "data": {
      "text/plain": [
       "(4, dict_keys(['info', 'images', 'annotations', 'licenses']))"
      ]
     },
     "execution_count": 31,
     "metadata": {},
     "output_type": "execute_result"
    }
   ],
   "source": [
    "data.__len__(), data.keys()"
   ]
  },
  {
   "cell_type": "code",
   "execution_count": 32,
   "metadata": {},
   "outputs": [
    {
     "name": "stderr",
     "output_type": "stream",
     "text": [
      "100%|██████████| 100271/100271 [00:00<00:00, 905368.17it/s]\n"
     ]
    },
    {
     "data": {
      "text/plain": [
       "100271"
      ]
     },
     "execution_count": 32,
     "metadata": {},
     "output_type": "execute_result"
    }
   ],
   "source": [
    "img_path = dict()\n",
    "img_path_li = []\n",
    "no_img = []\n",
    "\n",
    "for idx, info in tqdm(enumerate(data['images']), total=len(data['images'])):\n",
    "    img_path[data['images'][idx][\"id\"]] = data['images'][idx][\"file_name\"]\n",
    "    img_path_li.append(data['images'][idx][\"file_name\"][:-4])\n",
    "\n",
    "img_path.__len__()"
   ]
  },
  {
   "cell_type": "code",
   "execution_count": 34,
   "metadata": {
    "pycharm": {
     "is_executing": true
    }
   },
   "outputs": [
    {
     "data": {
      "text/plain": [
       "1000"
      ]
     },
     "execution_count": 34,
     "metadata": {},
     "output_type": "execute_result"
    }
   ],
   "source": [
    "file_path_li = []\n",
    "\n",
    "for (path, dir, files) in os.walk(tiw_img):\n",
    "    for filename in files:\n",
    "        ext = os.path.splitext(filename)[-1]\n",
    "        index_number = filename.split('.')[0]\n",
    "        file_path_li.append(index_number)\n",
    "\n",
    "file_path_li.__len__()"
   ]
  },
  {
   "cell_type": "code",
   "execution_count": null,
   "metadata": {
    "collapsed": false
   },
   "outputs": [],
   "source": [
    "# image 파일과 json 파일의 개수가 다르기 때문에 (data, label) 쌍이 맞지 않는 데이터 제거\n",
    "\n",
    "liset = set(file_path_li)\n",
    "li2set = set(img_path_li)\n",
    "black_list = set(liset | li2set) - set(liset & li2set)\n",
    "black_list.__len__()"
   ]
  },
  {
   "cell_type": "code",
   "execution_count": 37,
   "metadata": {},
   "outputs": [
    {
     "name": "stderr",
     "output_type": "stream",
     "text": [
      "100%|██████████| 2097591/2097591 [00:01<00:00, 1683368.32it/s]\n"
     ]
    },
    {
     "data": {
      "text/plain": [
       "(15580, 15580, 15580)"
      ]
     },
     "execution_count": 37,
     "metadata": {},
     "output_type": "execute_result"
    }
   ],
   "source": [
    "path = []\n",
    "text = []\n",
    "bbox = []\n",
    "\n",
    "for idx, info in tqdm(enumerate(data['annotations']), total=len(data['annotations'])):\n",
    "\n",
    "    # label 결측치 제거\n",
    "    if data['annotations'][idx]['text'] == None:\n",
    "        continue\n",
    "    if img_path[data['annotations'][idx]['image_id']][:-4] in black_list:\n",
    "        continue\n",
    "\n",
    "    # 좌표 이상치 제거\n",
    "    if data['annotations'][idx]['bbox'][2] + data['annotations'][idx]['bbox'][0] <= data['annotations'][idx]['bbox'][0]:\n",
    "        continue\n",
    "    if data['annotations'][idx]['bbox'][3] + data['annotations'][idx]['bbox'][1] <= data['annotations'][idx]['bbox'][1]:\n",
    "        continue\n",
    "\n",
    "    # 데이터 추가\n",
    "    path.append(data['annotations'][idx]['image_id'])\n",
    "    text.append(data['annotations'][idx]['text'])\n",
    "    bbox.append(data['annotations'][idx]['bbox'])\n",
    "\n",
    "len(path), len(text), len(bbox)"
   ]
  },
  {
   "cell_type": "markdown",
   "metadata": {},
   "source": [
    "### 데이터 전처리(Crop)"
   ]
  },
  {
   "cell_type": "code",
   "execution_count": 38,
   "metadata": {},
   "outputs": [
    {
     "name": "stderr",
     "output_type": "stream",
     "text": [
      "100%|██████████| 15580/15580 [00:00<00:00, 625320.63it/s]\n"
     ]
    }
   ],
   "source": [
    "# json의 저장 순서는 (x, y, width, height)\n",
    "# PIL의 Image.crop()과 순서는 동일하지만, (width, height)를 크기가 아닌 좌표로 변환하는 작업 필요\n",
    "\n",
    "for i in trange(len(bbox)):\n",
    "    bbox[i][2] = bbox[i][0] + bbox[i][2]\n",
    "    bbox[i][3] = bbox[i][1] + bbox[i][3]"
   ]
  },
  {
   "cell_type": "code",
   "execution_count": null,
   "metadata": {},
   "outputs": [],
   "source": []
  },
  {
   "cell_type": "code",
   "execution_count": 39,
   "metadata": {},
   "outputs": [
    {
     "name": "stderr",
     "output_type": "stream",
     "text": [
      "100%|██████████| 15580/15580 [06:32<00:00, 39.71it/s]\n"
     ]
    }
   ],
   "source": [
    "alpha = 0.5  # 이미지 resize 비율\n",
    "starts = 0  # 오류로 중단하기 전 마지막 인덱스 추후 매치가 되지않아 오류 발생시 해결후 그 idx를 starts에 넣고 재실행\n",
    "\n",
    "for idx, i in tqdm(enumerate(bbox[starts:]), total=len(bbox[starts:])):\n",
    "    idx += starts\n",
    "    image = Image.open(tiw_img + img_path[path[idx]])\n",
    "    crop_image = image.crop(i)\n",
    "\n",
    "    # crop_image.resize((crop_image.size[0] * alpha, crop_image.size[1] * alpha))  # resize\n",
    "    crop_image.save(tiw_crop + f'train_data_{idx}.jpg')"
   ]
  },
  {
   "cell_type": "markdown",
   "metadata": {
    "collapsed": false
   },
   "source": [
    "### 데이터 저장"
   ]
  },
  {
   "cell_type": "code",
   "execution_count": 44,
   "metadata": {},
   "outputs": [
    {
     "data": {
      "image/png": "[encoded data removed]",
      "text/plain": [
       "<PIL.JpegImagePlugin.JpegImageFile image mode=RGB size=444x349>"
      ]
     },
     "execution_count": 44,
     "metadata": {},
     "output_type": "execute_result"
    }
   ],
   "source": [
    "image_files = list(glob.glob(tiw_crop + '*'))\n",
    "image_files = natsort.natsorted(image_files)  # 크롭된 이미지 리스트 정렬\n",
    "\n",
    "Image.open(image_files[0])"
   ]
  },
  {
   "cell_type": "code",
   "execution_count": 41,
   "metadata": {},
   "outputs": [],
   "source": [
    "csv_new_crop = pd.DataFrame([])\n",
    "csv_new_crop['path'] = image_files\n",
    "csv_new_crop['text'] = text"
   ]
  },
  {
   "cell_type": "code",
   "execution_count": 42,
   "metadata": {},
   "outputs": [
    {
     "name": "stdout",
     "output_type": "stream",
     "text": [
      "<class 'pandas.core.frame.DataFrame'>\n",
      "RangeIndex: 15580 entries, 0 to 15579\n",
      "Data columns (total 2 columns):\n",
      " #   Column  Non-Null Count  Dtype \n",
      "---  ------  --------------  ----- \n",
      " 0   path    15580 non-null  object\n",
      " 1   text    15580 non-null  object\n",
      "dtypes: object(2)\n",
      "memory usage: 243.6+ KB\n"
     ]
    }
   ],
   "source": [
    "csv_new_crop.info()"
   ]
  },
  {
   "cell_type": "code",
   "execution_count": 43,
   "metadata": {
    "collapsed": false
   },
   "outputs": [
    {
     "data": {
      "text/html": [
       "<div>\n",
       "<style scoped>\n",
       "    .dataframe tbody tr th:only-of-type {\n",
       "        vertical-align: middle;\n",
       "    }\n",
       "\n",
       "    .dataframe tbody tr th {\n",
       "        vertical-align: top;\n",
       "    }\n",
       "\n",
       "    .dataframe thead th {\n",
       "        text-align: right;\n",
       "    }\n",
       "</style>\n",
       "<table border=\"1\" class=\"dataframe\">\n",
       "  <thead>\n",
       "    <tr style=\"text-align: right;\">\n",
       "      <th></th>\n",
       "      <th>path</th>\n",
       "      <th>text</th>\n",
       "    </tr>\n",
       "  </thead>\n",
       "  <tbody>\n",
       "    <tr>\n",
       "      <th>0</th>\n",
       "      <td>./images/crop_tiw/train_data_0.jpg</td>\n",
       "      <td>장</td>\n",
       "    </tr>\n",
       "    <tr>\n",
       "      <th>1</th>\n",
       "      <td>./images/crop_tiw/train_data_1.jpg</td>\n",
       "      <td>아</td>\n",
       "    </tr>\n",
       "    <tr>\n",
       "      <th>2</th>\n",
       "      <td>./images/crop_tiw/train_data_2.jpg</td>\n",
       "      <td>찌</td>\n",
       "    </tr>\n",
       "    <tr>\n",
       "      <th>3</th>\n",
       "      <td>./images/crop_tiw/train_data_3.jpg</td>\n",
       "      <td>한</td>\n",
       "    </tr>\n",
       "    <tr>\n",
       "      <th>4</th>\n",
       "      <td>./images/crop_tiw/train_data_4.jpg</td>\n",
       "      <td>국</td>\n",
       "    </tr>\n",
       "    <tr>\n",
       "      <th>...</th>\n",
       "      <td>...</td>\n",
       "      <td>...</td>\n",
       "    </tr>\n",
       "    <tr>\n",
       "      <th>15575</th>\n",
       "      <td>./images/crop_tiw/train_data_15575.jpg</td>\n",
       "      <td>sj산림조합</td>\n",
       "    </tr>\n",
       "    <tr>\n",
       "      <th>15576</th>\n",
       "      <td>./images/crop_tiw/train_data_15576.jpg</td>\n",
       "      <td>더</td>\n",
       "    </tr>\n",
       "    <tr>\n",
       "      <th>15577</th>\n",
       "      <td>./images/crop_tiw/train_data_15577.jpg</td>\n",
       "      <td>조</td>\n",
       "    </tr>\n",
       "    <tr>\n",
       "      <th>15578</th>\n",
       "      <td>./images/crop_tiw/train_data_15578.jpg</td>\n",
       "      <td>은</td>\n",
       "    </tr>\n",
       "    <tr>\n",
       "      <th>15579</th>\n",
       "      <td>./images/crop_tiw/train_data_15579.jpg</td>\n",
       "      <td>더조은</td>\n",
       "    </tr>\n",
       "  </tbody>\n",
       "</table>\n",
       "<p>15580 rows × 2 columns</p>\n",
       "</div>"
      ],
      "text/plain": [
       "                                         path    text\n",
       "0          ./images/crop_tiw/train_data_0.jpg       장\n",
       "1          ./images/crop_tiw/train_data_1.jpg       아\n",
       "2          ./images/crop_tiw/train_data_2.jpg       찌\n",
       "3          ./images/crop_tiw/train_data_3.jpg       한\n",
       "4          ./images/crop_tiw/train_data_4.jpg       국\n",
       "...                                       ...     ...\n",
       "15575  ./images/crop_tiw/train_data_15575.jpg  sj산림조합\n",
       "15576  ./images/crop_tiw/train_data_15576.jpg       더\n",
       "15577  ./images/crop_tiw/train_data_15577.jpg       조\n",
       "15578  ./images/crop_tiw/train_data_15578.jpg       은\n",
       "15579  ./images/crop_tiw/train_data_15579.jpg     더조은\n",
       "\n",
       "[15580 rows x 2 columns]"
      ]
     },
     "execution_count": 43,
     "metadata": {},
     "output_type": "execute_result"
    }
   ],
   "source": [
    "csv_new_crop"
   ]
  },
  {
   "cell_type": "code",
   "execution_count": 45,
   "metadata": {},
   "outputs": [],
   "source": [
    "# lmdb 데이터 생성을 위한 gt 파일 저장\n",
    "csv_new_crop.to_csv(lmdb_gt + 'crop_data.txt', sep='\\t', index=False, header=False)"
   ]
  },
  {
   "cell_type": "markdown",
   "metadata": {
    "collapsed": false
   },
   "source": [
    "### 2-2. [야외 실제 촬영 한글 이미지](https://aihub.or.kr/aihubdata/data/view.do?currMenu=115&topMenu=100&aihubDataSe=realm&dataSetSn=105)"
   ]
  },
  {
   "cell_type": "markdown",
   "metadata": {
    "collapsed": false
   },
   "source": [
    "### 파일 경로, 이미지, 라벨 추출"
   ]
  },
  {
   "cell_type": "code",
   "execution_count": 46,
   "metadata": {
    "collapsed": false
   },
   "outputs": [],
   "source": [
    "def number_of_subfiles(data_dir):\n",
    "    s = 0\n",
    "    _path = []\n",
    "    _list = []\n",
    "\n",
    "\n",
    "    for (path, dir, files) in os.walk(data_dir):\n",
    "        for filename in files:\n",
    "            ext = os.path.splitext(filename)[-1]\n",
    "\n",
    "            if ext != '.zip':\n",
    "                index_number = filename.split('.')[0]\n",
    "                _list.append(index_number)\n",
    "                _path.append(path + '/' + filename)\n",
    "                s += 1\n",
    "        \n",
    "    _list.sort()\n",
    "\n",
    "    return s, _list, _path"
   ]
  },
  {
   "cell_type": "code",
   "execution_count": 47,
   "metadata": {
    "collapsed": false
   },
   "outputs": [
    {
     "data": {
      "text/plain": [
       "(1000, 1000)"
      ]
     },
     "execution_count": 47,
     "metadata": {},
     "output_type": "execute_result"
    }
   ],
   "source": [
    "cnt_img, ti_path, train_img = number_of_subfiles(hub_timg)\n",
    "cnt_label, tl_path, train_label = number_of_subfiles(hub_tlabel)\n",
    "\n",
    "cnt_img, cnt_label"
   ]
  },
  {
   "cell_type": "code",
   "execution_count": 48,
   "metadata": {},
   "outputs": [
    {
     "data": {
      "text/plain": [
       "set()"
      ]
     },
     "execution_count": 48,
     "metadata": {},
     "output_type": "execute_result"
    }
   ],
   "source": [
    "# 이미지와 라벨 매치가 안되는 파일이 있는지 개수 확인.\n",
    "liset = set(ti_path)\n",
    "li2set = set(tl_path)\n",
    "black_list = set(liset | li2set) - set(liset & li2set)\n",
    "black_list"
   ]
  },
  {
   "cell_type": "code",
   "execution_count": 49,
   "metadata": {},
   "outputs": [
    {
     "data": {
      "text/plain": [
       "1000"
      ]
     },
     "execution_count": 49,
     "metadata": {},
     "output_type": "execute_result"
    }
   ],
   "source": [
    "for b in black_list:\n",
    "    for p in train_label:\n",
    "        if p.split('.')[-2].split('/')[-1] == b:\n",
    "            train_label.remove(p)\n",
    "\n",
    "len(train_label)"
   ]
  },
  {
   "cell_type": "code",
   "execution_count": 50,
   "metadata": {
    "collapsed": false
   },
   "outputs": [
    {
     "data": {
      "text/plain": [
       "(['./images/hub_train//간판_가로형간판_000001.jpg',\n",
       "  './images/hub_train//간판_가로형간판_000101.jpg',\n",
       "  './images/hub_train//간판_가로형간판_000201.jpg',\n",
       "  './images/hub_train//간판_가로형간판_000301.jpg',\n",
       "  './images/hub_train//간판_가로형간판_000401.jpg',\n",
       "  './images/hub_train//간판_가로형간판_000501.jpg',\n",
       "  './images/hub_train//간판_가로형간판_000601.jpg',\n",
       "  './images/hub_train//간판_가로형간판_000701.jpg',\n",
       "  './images/hub_train//간판_가로형간판_000801.jpg',\n",
       "  './images/hub_train//간판_가로형간판_000901.jpg'],\n",
       " ['./labels/hub_train//간판_가로형간판_000001.json',\n",
       "  './labels/hub_train//간판_가로형간판_000101.json',\n",
       "  './labels/hub_train//간판_가로형간판_000201.json',\n",
       "  './labels/hub_train//간판_가로형간판_000301.json',\n",
       "  './labels/hub_train//간판_가로형간판_000401.json',\n",
       "  './labels/hub_train//간판_가로형간판_000501.json',\n",
       "  './labels/hub_train//간판_가로형간판_000601.json',\n",
       "  './labels/hub_train//간판_가로형간판_000701.json',\n",
       "  './labels/hub_train//간판_가로형간판_000801.json',\n",
       "  './labels/hub_train//간판_가로형간판_000901.json'])"
      ]
     },
     "execution_count": 50,
     "metadata": {},
     "output_type": "execute_result"
    }
   ],
   "source": [
    "# natsorted를 이용해 1-> 10 -> 11 처럼 사전순 아닌 1 -> 2 -> ... -> 10 처럼 숫자크기 순으로 정렬\n",
    "train_img = natsort.natsorted(train_img) \n",
    "train_label = natsort.natsorted(train_label)\n",
    "train_img[:1000:100], train_label[:1000:100]"
   ]
  },
  {
   "cell_type": "code",
   "execution_count": 51,
   "metadata": {
    "collapsed": false
   },
   "outputs": [],
   "source": [
    "# cnt_img, vi_path, valid_img = number_of_subfiles(hub_vimg)\n",
    "# cnt_label, vl_path, valid_label = number_of_subfiles(hub_vlabel)\n",
    "\n",
    "# cnt_img, cnt_label"
   ]
  },
  {
   "cell_type": "code",
   "execution_count": 52,
   "metadata": {
    "collapsed": false
   },
   "outputs": [],
   "source": [
    "# valid_img[:50], valid_label[:50]"
   ]
  },
  {
   "cell_type": "markdown",
   "metadata": {
    "collapsed": false
   },
   "source": [
    "### 이미지, 라벨 리스트 생성"
   ]
  },
  {
   "cell_type": "code",
   "execution_count": 53,
   "metadata": {
    "collapsed": false
   },
   "outputs": [
    {
     "name": "stderr",
     "output_type": "stream",
     "text": [
      "100%|██████████| 1000/1000 [00:00<00:00, 24202.98it/s]\n"
     ]
    },
    {
     "data": {
      "text/plain": [
       "(1000,)"
      ]
     },
     "execution_count": 53,
     "metadata": {},
     "output_type": "execute_result"
    }
   ],
   "source": [
    "train_json_list = []\n",
    "# valid_json_list = []\n",
    "\n",
    "for label in tqdm(train_label):\n",
    "    with open(label, encoding='utf8') as f:\n",
    "        train_json_list.append(json.load(f))\n",
    "\n",
    "# for label in tqdm(valid_label):\n",
    "#     with open(label, encoding='utf8') as f:\n",
    "#         valid_json_list.append(json.load(f))\n",
    "\n",
    "train_json_list.__len__(), #valid_json_list.__len__()"
   ]
  },
  {
   "cell_type": "markdown",
   "metadata": {
    "collapsed": false
   },
   "source": [
    "### 데이터 전처리(Crop)"
   ]
  },
  {
   "cell_type": "code",
   "execution_count": 54,
   "metadata": {
    "collapsed": false
   },
   "outputs": [],
   "source": [
    "def mk_crop(json_list):\n",
    "    idxs = []    # 파일 순서 인덱스\n",
    "    lotate = []  # 이미지 좌표\n",
    "    label = []   # 라벨\n",
    "\n",
    "    for idx, i in tqdm(enumerate(json_list), total=len(json_list)):\n",
    "        for jdx, j in enumerate(i['annotations']):\n",
    "\n",
    "            # 좌표 이상치 제거\n",
    "            if j['bbox'] == [None, None, None, None]:\n",
    "                continue\n",
    "\n",
    "            # 라벨 결측치 제거\n",
    "            elif j['text'] == \"xxx\":\n",
    "                continue\n",
    "\n",
    "            idxs.append(idx)\n",
    "            lotate.append(j['bbox'])\n",
    "            label.append(j['text'])\n",
    "\n",
    "    return idxs, lotate, label"
   ]
  },
  {
   "cell_type": "code",
   "execution_count": 55,
   "metadata": {
    "collapsed": false
   },
   "outputs": [
    {
     "name": "stderr",
     "output_type": "stream",
     "text": [
      "100%|██████████| 1000/1000 [00:00<00:00, 172059.89it/s]\n"
     ]
    }
   ],
   "source": [
    "t_idxs, t_lotate, t_label = mk_crop(train_json_list)\n",
    "#v_idxs, v_lotate, v_label = mk_crop(valid_json_list)"
   ]
  },
  {
   "cell_type": "code",
   "execution_count": 56,
   "metadata": {
    "collapsed": false
   },
   "outputs": [
    {
     "name": "stderr",
     "output_type": "stream",
     "text": [
      "100%|██████████| 1381/1381 [00:00<00:00, 450695.13it/s]\n"
     ]
    }
   ],
   "source": [
    "# crop을 위한 좌표 정보 수정\n",
    "for i in trange(len(t_lotate)):\n",
    "    t_lotate[i][2] = t_lotate[i][0] + t_lotate[i][2]\n",
    "    t_lotate[i][3] = t_lotate[i][1] + t_lotate[i][3]\n",
    "\n",
    "# for i in trange(len(v_lotate)):\n",
    "#     v_lotate[i][2] = v_lotate[i][0] + v_lotate[i][2]\n",
    "#     v_lotate[i][3] = v_lotate[i][1] + v_lotate[i][3]"
   ]
  },
  {
   "cell_type": "markdown",
   "metadata": {
    "collapsed": false
   },
   "source": [
    "### train data 저장"
   ]
  },
  {
   "cell_type": "code",
   "execution_count": 58,
   "metadata": {
    "collapsed": false
   },
   "outputs": [
    {
     "name": "stderr",
     "output_type": "stream",
     "text": [
      "100%|██████████| 1381/1381 [00:21<00:00, 65.23it/s]\n"
     ]
    }
   ],
   "source": [
    "alpha = 0.5  # 이미지 resize 비율\n",
    "starts = 0  # 오류로 중단하기 전 마지막 인덱스\n",
    "\n",
    "for idx, i in tqdm(enumerate(t_lotate), total=len(t_lotate)):\n",
    "    idx += starts\n",
    "    image = Image.open(train_img[t_idxs[idx]])\n",
    "    crop_image = image.crop(i)\n",
    "\n",
    "    # crop_image.resize((crop_image.size[0] * alpha, crop_image.size[1] * alpha))  # resize\n",
    "    crop_image.save(hub_tcrop + f'train_data_{str(idx).zfill(7)}.jpg')\n",
    "\n",
    "paths = sorted(glob.glob(hub_tcrop + '/t*.*'))\n",
    "\n",
    "data = pd.DataFrame()\n",
    "data['path'] = paths\n",
    "data['label'] = t_label\n",
    "data.to_csv(lmdb_gt + 'hub_tlabel.txt', sep='\\t', encoding='utf8', index=False)\n"
   ]
  },
  {
   "cell_type": "markdown",
   "metadata": {
    "collapsed": false
   },
   "source": [
    "## 3. Dacon 데이터 전처리 및 lmdb 데이터 생성"
   ]
  },
  {
   "cell_type": "markdown",
   "metadata": {
    "collapsed": false
   },
   "source": [
    "### 3-1. train.csv 수정"
   ]
  },
  {
   "cell_type": "code",
   "execution_count": 69,
   "metadata": {},
   "outputs": [],
   "source": [
    "# 라벨링이 잘못되어있거나 누락된 데이터 수정 -> train_edit.csv 로 저장\n",
    "train_csv_path = 'train_edit.csv'\n",
    "train_csv = pd.read_csv(train_csv_path)\n",
    "\n",
    "# lmdb 데이터 생성을 위한 gt 파일 생성\n",
    "train_csv[:-1000].to_csv('./lmdb_gt/train.txt', sep='\\t', header=False, index=False)\n",
    "\n",
    "# 최종 학습 단계의 모델 저장을 위한 임시 validation gt 파일 생성\n",
    "train_csv[-1000:].to_csv('./lmdb_gt/valid.txt', sep='\\t', header=False, index=False)"
   ]
  },
  {
   "cell_type": "markdown",
   "metadata": {
    "collapsed": false
   },
   "source": [
    "### 3-2. 학습에 사용할 lmdb 데이터 생성"
   ]
  },
  {
   "cell_type": "code",
   "execution_count": 73,
   "metadata": {},
   "outputs": [
    {
     "name": "stdout",
     "output_type": "stream",
     "text": [
      "한국어 글자체 (tiw) lmdb 생성\n",
      "Written 1000 / 15580\n",
      "Written 2000 / 15580\n",
      "Written 3000 / 15580\n",
      "Written 4000 / 15580\n",
      "Written 5000 / 15580\n",
      "Written 6000 / 15580\n",
      "Written 7000 / 15580\n",
      "Written 8000 / 15580\n",
      "Written 9000 / 15580\n",
      "Written 10000 / 15580\n",
      "Written 11000 / 15580\n",
      "Written 12000 / 15580\n",
      "Written 13000 / 15580\n",
      "Written 14000 / 15580\n",
      "Written 15000 / 15580\n",
      "Created dataset with 15580 samples\n",
      "야외 실제 촬영 데이터 lmdb 생성\n",
      "path does not exist\n",
      "Written 1000 / 1382\n",
      "Created dataset with 1381 samples\n",
      "Dacon 제공 데이터셋 ( : -1000 만큼 train 할당\n",
      "Written 1000 / 11159\n",
      "Written 2000 / 11159\n",
      "Written 3000 / 11159\n",
      "Written 4000 / 11159\n",
      "Written 5000 / 11159\n",
      "Written 6000 / 11159\n",
      "Written 7000 / 11159\n",
      "Written 8000 / 11159\n",
      "Written 9000 / 11159\n",
      "Written 10000 / 11159\n",
      "Written 11000 / 11159\n",
      "Created dataset with 11159 samples\n",
      "Dacon 제공 데이터셋 ( -1000 :  만큼 valid 할당\n",
      "Written 1000 / 1000\n",
      "Created dataset with 1000 samples\n"
     ]
    }
   ],
   "source": [
    "'''\n",
    "window 환경에서 작업 시의 lmdb 파일 생성 명령어:\n",
    "!python ./hallymocr/create_lmdb_dataset.py --inputPath [데이터 root 경로] --gtFile [txt 파일 경로] --outputPath [데이터 저장 경로] --file_size [데이터 총 크기(GB)]\n",
    "\n",
    "linux 환경에서 작업 시의 lmdb 파일 생성 명령어:\n",
    "!python3 ./hallymocr/create_lmdb_dataset.py --inputPath [데이터 root 경로] --gtFile [txt 파일 경로] --outputPath [데이터 저장 경로] --file_size [데이터 총 크기(GB)]\n",
    "'''\n",
    "# !python ./hallymocr/create_lmdb_dataset.py --inputPath ./images/crop_valid --gtFile ./lmdb_data/hub_vlabel.txt --outputPath ./result/hvalid --file_size 5\n",
    "\n",
    "print('한국어 글자체 (tiw) lmdb 생성')\n",
    "!python ./hallymocr/create_lmdb_dataset.py --inputPath '' --gtFile ./lmdb_gt/crop_data.txt --outputPath ./result/tiw --file_size 10\n",
    "\n",
    "print('야외 실제 촬영 데이터 lmdb 생성')\n",
    "!python ./hallymocr/create_lmdb_dataset.py --inputPath '' --gtFile ./lmdb_gt/hub_tlabel.txt --outputPath ./result/htrain --file_size 20\n",
    "\n",
    "print('Dacon 제공 데이터셋 ( : -1000 만큼 train 할당')\n",
    "!python ./hallymocr/create_lmdb_dataset.py --inputPath '' --gtFile ./lmdb_gt/train.txt --outputPath ./result/train --file_size 5\n",
    "\n",
    "print('Dacon 제공 데이터셋 ( -1000 :  만큼 valid 할당')\n",
    "!python ./hallymocr/create_lmdb_dataset.py --inputPath '' --gtFile ./lmdb_gt/valid.txt --outputPath ./result/valid --file_size 2"
   ]
  },
  {
   "cell_type": "markdown",
   "metadata": {},
   "source": [
    "## 4. OCR 모델 학습\n",
    "1차 학습은 외부데이터로만 학습을 진행(crop약 160만장)하며, validation set은 Dacon측에서 제공한 train셋을 사용합니다."
   ]
  },
  {
   "cell_type": "code",
   "execution_count": 74,
   "metadata": {},
   "outputs": [],
   "source": [
    "ko_txt = ''\n",
    "e = ord('가')\n",
    "\n",
    "for i in range(11172):\n",
    "    ko_txt += chr(e + i)\n",
    "\n",
    "ko_txt += ' '"
   ]
  },
  {
   "cell_type": "code",
   "execution_count": 75,
   "metadata": {
    "collapsed": false,
    "jupyter": {
     "outputs_hidden": false
    }
   },
   "outputs": [],
   "source": [
    "import sys\n",
    "import random\n",
    "import string\n",
    "import torch.backends.cudnn as cudnn\n",
    "import torch.utils.data\n",
    "import numpy as np\n",
    "\n",
    "sys.path.append(\"./hallymocr\")\n",
    "from hallymocr.train import train\n",
    "from hallymocr.test import test"
   ]
  },
  {
   "cell_type": "code",
   "execution_count": 84,
   "metadata": {
    "collapsed": false
   },
   "outputs": [
    {
     "name": "stdout",
     "output_type": "stream",
     "text": [
      "------ Use multi-GPU setting ------\n",
      "if you stuck too long time with multi-GPU setting, try to set --workers 0\n"
     ]
    }
   ],
   "source": [
    "# 1차 학습 하이퍼파라미터 설정\n",
    "opt = {\n",
    "    'exp_name': None,\n",
    "    'train_data': './result/',\n",
    "    'valid_data': './result/train', # \n",
    "    'manualSeed': 1111,\n",
    "    'workers': 8,\n",
    "    'batch_size': 32,\n",
    "    'num_iter': 100000,\n",
    "    'valInterval': 1000,\n",
    "    'saved_model': '',\n",
    "\n",
    "    'FT': False,\n",
    "    'adam': False,\n",
    "    'lr': 1,\n",
    "    'beta1': 0.9,\n",
    "    'rho': 0.95,\n",
    "    'eps': 1e-8,\n",
    "    'grad_clip': 5,\n",
    "    'baiduCTC': False,\n",
    "    'select_data': 'tiw-htrain',\n",
    "    'batch_ratio': '0.5-0.5',\n",
    "    'total_data_usage_ratio': '1',\n",
    "    'batch_max_length': 15,\n",
    "\n",
    "    'imgH': 256,\n",
    "    'imgW': 256,\n",
    "    'rgb': False,\n",
    "    'character': ko_txt,\n",
    "    'sensitive': False,\n",
    "    'PAD': False,\n",
    "    'data_filtering_off': False,\n",
    "    'Transformation': 'TPS',  # None|TPS\n",
    "    'FeatureExtraction': 'ResNet',  # VGG|ResNet|RCNN\n",
    "    'SequenceModeling': 'BiLSTM',  # None|BiLSTM\n",
    "    'Prediction': 'Attn',  # CTC|Attn\n",
    "    'num_fiducial': 20,\n",
    "    'input_channel': 1,\n",
    "    'output_channel': 512,\n",
    "    'hidden_size': 256,\n",
    "}\n",
    "\n",
    "# 모델 추가 세부사항 설정\n",
    "if not opt['exp_name']:\n",
    "    opt['exp_name'] = '{Transformation}-{FeatureExtraction}-{SequenceModeling}-{Prediction}'.format(**opt)\n",
    "    opt['exp_name'] += '-Seed{manualSeed}'.format(**opt)\n",
    "    # print(opt.exp_name)\n",
    "\n",
    "os.makedirs('./saved_models/{exp_name}'.format(**opt), exist_ok=True)\n",
    "\n",
    "\"\"\" Seed and GPU setting \"\"\"\n",
    "random.seed(opt['manualSeed'])\n",
    "np.random.seed(opt['manualSeed'])\n",
    "torch.manual_seed(opt['manualSeed'])\n",
    "torch.cuda.manual_seed(opt['manualSeed'])\n",
    "\n",
    "cudnn.benchmark = True\n",
    "cudnn.deterministic = True\n",
    "opt['num_gpu'] = torch.cuda.device_count()\n",
    "\n",
    "if opt['num_gpu'] > 1:\n",
    "    print('------ Use multi-GPU setting ------')\n",
    "    print('if you stuck too long time with multi-GPU setting, try to set --workers 0')\n",
    "    opt['workers'] = opt['workers'] * opt['num_gpu']\n",
    "    opt['batch_size'] = opt['batch_size'] * opt['num_gpu']"
   ]
  },
  {
   "cell_type": "markdown",
   "metadata": {},
   "source": [
    "### 모델 훈련"
   ]
  },
  {
   "cell_type": "code",
   "execution_count": 85,
   "metadata": {
    "collapsed": false,
    "jupyter": {
     "outputs_hidden": false
    }
   },
   "outputs": [
    {
     "name": "stdout",
     "output_type": "stream",
     "text": [
      "Filtering the images containing characters which are not in opt.character\n",
      "Filtering the images whose label is longer than opt.batch_max_length\n",
      "--------------------------------------------------------------------------------\n",
      "dataset_root: ./result/\n",
      "opt.select_data: ['tiw', 'htrain']\n",
      "opt.batch_ratio: ['0.5', '0.5']\n",
      "--------------------------------------------------------------------------------\n",
      "dataset_root:    ./result/\t dataset: tiw\n",
      "sub-directory:\t/tiw\t num samples: 8923\n",
      "num total samples of tiw: 8923 x 1 (total_data_usage_ratio) = 8923\n",
      "num samples of tiw per batch: 256 x 0.5 (batch_ratio) = 128\n"
     ]
    },
    {
     "name": "stderr",
     "output_type": "stream",
     "text": [
      "Exception ignored in: <function _releaseLock at 0x7f44d11c5a60>\n",
      "Traceback (most recent call last):\n",
      "  File \"/home/mmc/anaconda3/envs/OCR/lib/python3.8/logging/__init__.py\", line 223, in _releaseLock\n",
      "    def _releaseLock():\n",
      "KeyboardInterrupt: \n"
     ]
    },
    {
     "name": "stdout",
     "output_type": "stream",
     "text": [
      "--------------------------------------------------------------------------------\n",
      "dataset_root:    ./result/\t dataset: htrain\n",
      "sub-directory:\t/htrain\t num samples: 1368\n",
      "num total samples of htrain: 1368 x 1 (total_data_usage_ratio) = 1368\n",
      "num samples of htrain per batch: 256 x 0.5 (batch_ratio) = 128\n",
      "--------------------------------------------------------------------------------\n",
      "Total_batch_size: 128+128 = 256\n",
      "--------------------------------------------------------------------------------\n",
      "dataset_root:    ./result/train\t dataset: /\n",
      "sub-directory:\t/.\t num samples: 11120\n",
      "--------------------------------------------------------------------------------\n",
      "model input parameters 256 256 20 1 512 256 11175 15 TPS ResNet BiLSTM Attn\n",
      "Skip Transformation.LocalizationNetwork.localization_fc2.weight as it is already initialized\n",
      "Skip Transformation.LocalizationNetwork.localization_fc2.bias as it is already initialized\n",
      "Model:\n",
      "DataParallel(\n",
      "  (module): Model(\n",
      "    (Transformation): TPS_SpatialTransformerNetwork(\n",
      "      (LocalizationNetwork): LocalizationNetwork(\n",
      "        (conv): Sequential(\n",
      "          (0): Conv2d(1, 64, kernel_size=(3, 3), stride=(1, 1), padding=(1, 1), bias=False)\n",
      "          (1): BatchNorm2d(64, eps=1e-05, momentum=0.1, affine=True, track_running_stats=True)\n",
      "          (2): ReLU(inplace=True)\n",
      "          (3): MaxPool2d(kernel_size=2, stride=2, padding=0, dilation=1, ceil_mode=False)\n",
      "          (4): Conv2d(64, 128, kernel_size=(3, 3), stride=(1, 1), padding=(1, 1), bias=False)\n",
      "          (5): BatchNorm2d(128, eps=1e-05, momentum=0.1, affine=True, track_running_stats=True)\n",
      "          (6): ReLU(inplace=True)\n",
      "          (7): MaxPool2d(kernel_size=2, stride=2, padding=0, dilation=1, ceil_mode=False)\n",
      "          (8): Conv2d(128, 256, kernel_size=(3, 3), stride=(1, 1), padding=(1, 1), bias=False)\n",
      "          (9): BatchNorm2d(256, eps=1e-05, momentum=0.1, affine=True, track_running_stats=True)\n",
      "          (10): ReLU(inplace=True)\n",
      "          (11): MaxPool2d(kernel_size=2, stride=2, padding=0, dilation=1, ceil_mode=False)\n",
      "          (12): Conv2d(256, 512, kernel_size=(3, 3), stride=(1, 1), padding=(1, 1), bias=False)\n",
      "          (13): BatchNorm2d(512, eps=1e-05, momentum=0.1, affine=True, track_running_stats=True)\n",
      "          (14): ReLU(inplace=True)\n",
      "          (15): AdaptiveAvgPool2d(output_size=1)\n",
      "        )\n",
      "        (localization_fc1): Sequential(\n",
      "          (0): Linear(in_features=512, out_features=256, bias=True)\n",
      "          (1): ReLU(inplace=True)\n",
      "        )\n",
      "        (localization_fc2): Linear(in_features=256, out_features=40, bias=True)\n",
      "      )\n",
      "      (GridGenerator): GridGenerator()\n",
      "    )\n",
      "    (FeatureExtraction): ResNet_FeatureExtractor(\n",
      "      (ConvNet): ResNet(\n",
      "        (conv0_1): Conv2d(1, 32, kernel_size=(3, 3), stride=(1, 1), padding=(1, 1), bias=False)\n",
      "        (bn0_1): BatchNorm2d(32, eps=1e-05, momentum=0.1, affine=True, track_running_stats=True)\n",
      "        (conv0_2): Conv2d(32, 64, kernel_size=(3, 3), stride=(1, 1), padding=(1, 1), bias=False)\n",
      "        (bn0_2): BatchNorm2d(64, eps=1e-05, momentum=0.1, affine=True, track_running_stats=True)\n",
      "        (relu): ReLU(inplace=True)\n",
      "        (maxpool1): MaxPool2d(kernel_size=2, stride=2, padding=0, dilation=1, ceil_mode=False)\n",
      "        (layer1): Sequential(\n",
      "          (0): BasicBlock(\n",
      "            (conv1): Conv2d(64, 128, kernel_size=(3, 3), stride=(1, 1), padding=(1, 1), bias=False)\n",
      "            (bn1): BatchNorm2d(128, eps=1e-05, momentum=0.1, affine=True, track_running_stats=True)\n",
      "            (conv2): Conv2d(128, 128, kernel_size=(3, 3), stride=(1, 1), padding=(1, 1), bias=False)\n",
      "            (bn2): BatchNorm2d(128, eps=1e-05, momentum=0.1, affine=True, track_running_stats=True)\n",
      "            (relu): ReLU(inplace=True)\n",
      "            (downsample): Sequential(\n",
      "              (0): Conv2d(64, 128, kernel_size=(1, 1), stride=(1, 1), bias=False)\n",
      "              (1): BatchNorm2d(128, eps=1e-05, momentum=0.1, affine=True, track_running_stats=True)\n",
      "            )\n",
      "          )\n",
      "        )\n",
      "        (conv1): Conv2d(128, 128, kernel_size=(3, 3), stride=(1, 1), padding=(1, 1), bias=False)\n",
      "        (bn1): BatchNorm2d(128, eps=1e-05, momentum=0.1, affine=True, track_running_stats=True)\n",
      "        (maxpool2): MaxPool2d(kernel_size=2, stride=2, padding=0, dilation=1, ceil_mode=False)\n",
      "        (layer2): Sequential(\n",
      "          (0): BasicBlock(\n",
      "            (conv1): Conv2d(128, 256, kernel_size=(3, 3), stride=(1, 1), padding=(1, 1), bias=False)\n",
      "            (bn1): BatchNorm2d(256, eps=1e-05, momentum=0.1, affine=True, track_running_stats=True)\n",
      "            (conv2): Conv2d(256, 256, kernel_size=(3, 3), stride=(1, 1), padding=(1, 1), bias=False)\n",
      "            (bn2): BatchNorm2d(256, eps=1e-05, momentum=0.1, affine=True, track_running_stats=True)\n",
      "            (relu): ReLU(inplace=True)\n",
      "            (downsample): Sequential(\n",
      "              (0): Conv2d(128, 256, kernel_size=(1, 1), stride=(1, 1), bias=False)\n",
      "              (1): BatchNorm2d(256, eps=1e-05, momentum=0.1, affine=True, track_running_stats=True)\n",
      "            )\n",
      "          )\n",
      "          (1): BasicBlock(\n",
      "            (conv1): Conv2d(256, 256, kernel_size=(3, 3), stride=(1, 1), padding=(1, 1), bias=False)\n",
      "            (bn1): BatchNorm2d(256, eps=1e-05, momentum=0.1, affine=True, track_running_stats=True)\n",
      "            (conv2): Conv2d(256, 256, kernel_size=(3, 3), stride=(1, 1), padding=(1, 1), bias=False)\n",
      "            (bn2): BatchNorm2d(256, eps=1e-05, momentum=0.1, affine=True, track_running_stats=True)\n",
      "            (relu): ReLU(inplace=True)\n",
      "          )\n",
      "        )\n",
      "        (conv2): Conv2d(256, 256, kernel_size=(3, 3), stride=(1, 1), padding=(1, 1), bias=False)\n",
      "        (bn2): BatchNorm2d(256, eps=1e-05, momentum=0.1, affine=True, track_running_stats=True)\n",
      "        (maxpool3): MaxPool2d(kernel_size=2, stride=(2, 1), padding=(0, 1), dilation=1, ceil_mode=False)\n",
      "        (layer3): Sequential(\n",
      "          (0): BasicBlock(\n",
      "            (conv1): Conv2d(256, 512, kernel_size=(3, 3), stride=(1, 1), padding=(1, 1), bias=False)\n",
      "            (bn1): BatchNorm2d(512, eps=1e-05, momentum=0.1, affine=True, track_running_stats=True)\n",
      "            (conv2): Conv2d(512, 512, kernel_size=(3, 3), stride=(1, 1), padding=(1, 1), bias=False)\n",
      "            (bn2): BatchNorm2d(512, eps=1e-05, momentum=0.1, affine=True, track_running_stats=True)\n",
      "            (relu): ReLU(inplace=True)\n",
      "            (downsample): Sequential(\n",
      "              (0): Conv2d(256, 512, kernel_size=(1, 1), stride=(1, 1), bias=False)\n",
      "              (1): BatchNorm2d(512, eps=1e-05, momentum=0.1, affine=True, track_running_stats=True)\n",
      "            )\n",
      "          )\n",
      "          (1): BasicBlock(\n",
      "            (conv1): Conv2d(512, 512, kernel_size=(3, 3), stride=(1, 1), padding=(1, 1), bias=False)\n",
      "            (bn1): BatchNorm2d(512, eps=1e-05, momentum=0.1, affine=True, track_running_stats=True)\n",
      "            (conv2): Conv2d(512, 512, kernel_size=(3, 3), stride=(1, 1), padding=(1, 1), bias=False)\n",
      "            (bn2): BatchNorm2d(512, eps=1e-05, momentum=0.1, affine=True, track_running_stats=True)\n",
      "            (relu): ReLU(inplace=True)\n",
      "          )\n",
      "          (2): BasicBlock(\n",
      "            (conv1): Conv2d(512, 512, kernel_size=(3, 3), stride=(1, 1), padding=(1, 1), bias=False)\n",
      "            (bn1): BatchNorm2d(512, eps=1e-05, momentum=0.1, affine=True, track_running_stats=True)\n",
      "            (conv2): Conv2d(512, 512, kernel_size=(3, 3), stride=(1, 1), padding=(1, 1), bias=False)\n",
      "            (bn2): BatchNorm2d(512, eps=1e-05, momentum=0.1, affine=True, track_running_stats=True)\n",
      "            (relu): ReLU(inplace=True)\n",
      "          )\n",
      "          (3): BasicBlock(\n",
      "            (conv1): Conv2d(512, 512, kernel_size=(3, 3), stride=(1, 1), padding=(1, 1), bias=False)\n",
      "            (bn1): BatchNorm2d(512, eps=1e-05, momentum=0.1, affine=True, track_running_stats=True)\n",
      "            (conv2): Conv2d(512, 512, kernel_size=(3, 3), stride=(1, 1), padding=(1, 1), bias=False)\n",
      "            (bn2): BatchNorm2d(512, eps=1e-05, momentum=0.1, affine=True, track_running_stats=True)\n",
      "            (relu): ReLU(inplace=True)\n",
      "          )\n",
      "          (4): BasicBlock(\n",
      "            (conv1): Conv2d(512, 512, kernel_size=(3, 3), stride=(1, 1), padding=(1, 1), bias=False)\n",
      "            (bn1): BatchNorm2d(512, eps=1e-05, momentum=0.1, affine=True, track_running_stats=True)\n",
      "            (conv2): Conv2d(512, 512, kernel_size=(3, 3), stride=(1, 1), padding=(1, 1), bias=False)\n",
      "            (bn2): BatchNorm2d(512, eps=1e-05, momentum=0.1, affine=True, track_running_stats=True)\n",
      "            (relu): ReLU(inplace=True)\n",
      "          )\n",
      "        )\n",
      "        (conv3): Conv2d(512, 512, kernel_size=(3, 3), stride=(1, 1), padding=(1, 1), bias=False)\n",
      "        (bn3): BatchNorm2d(512, eps=1e-05, momentum=0.1, affine=True, track_running_stats=True)\n",
      "        (layer4): Sequential(\n",
      "          (0): BasicBlock(\n",
      "            (conv1): Conv2d(512, 512, kernel_size=(3, 3), stride=(1, 1), padding=(1, 1), bias=False)\n",
      "            (bn1): BatchNorm2d(512, eps=1e-05, momentum=0.1, affine=True, track_running_stats=True)\n",
      "            (conv2): Conv2d(512, 512, kernel_size=(3, 3), stride=(1, 1), padding=(1, 1), bias=False)\n",
      "            (bn2): BatchNorm2d(512, eps=1e-05, momentum=0.1, affine=True, track_running_stats=True)\n",
      "            (relu): ReLU(inplace=True)\n",
      "          )\n",
      "          (1): BasicBlock(\n",
      "            (conv1): Conv2d(512, 512, kernel_size=(3, 3), stride=(1, 1), padding=(1, 1), bias=False)\n",
      "            (bn1): BatchNorm2d(512, eps=1e-05, momentum=0.1, affine=True, track_running_stats=True)\n",
      "            (conv2): Conv2d(512, 512, kernel_size=(3, 3), stride=(1, 1), padding=(1, 1), bias=False)\n",
      "            (bn2): BatchNorm2d(512, eps=1e-05, momentum=0.1, affine=True, track_running_stats=True)\n",
      "            (relu): ReLU(inplace=True)\n",
      "          )\n",
      "          (2): BasicBlock(\n",
      "            (conv1): Conv2d(512, 512, kernel_size=(3, 3), stride=(1, 1), padding=(1, 1), bias=False)\n",
      "            (bn1): BatchNorm2d(512, eps=1e-05, momentum=0.1, affine=True, track_running_stats=True)\n",
      "            (conv2): Conv2d(512, 512, kernel_size=(3, 3), stride=(1, 1), padding=(1, 1), bias=False)\n",
      "            (bn2): BatchNorm2d(512, eps=1e-05, momentum=0.1, affine=True, track_running_stats=True)\n",
      "            (relu): ReLU(inplace=True)\n",
      "          )\n",
      "        )\n",
      "        (conv4_1): Conv2d(512, 512, kernel_size=(2, 2), stride=(2, 1), padding=(0, 1), bias=False)\n",
      "        (bn4_1): BatchNorm2d(512, eps=1e-05, momentum=0.1, affine=True, track_running_stats=True)\n",
      "        (conv4_2): Conv2d(512, 512, kernel_size=(2, 2), stride=(1, 1), bias=False)\n",
      "        (bn4_2): BatchNorm2d(512, eps=1e-05, momentum=0.1, affine=True, track_running_stats=True)\n",
      "      )\n",
      "    )\n",
      "    (AdaptiveAvgPool): AdaptiveAvgPool2d(output_size=(None, 1))\n",
      "    (modify_GAP): AdaptiveAvgPool2d(output_size=(None, 512))\n",
      "    (SequenceModeling): Sequential(\n",
      "      (0): BidirectionalLSTM(\n",
      "        (rnn): LSTM(512, 256, batch_first=True, bidirectional=True)\n",
      "        (linear): Linear(in_features=512, out_features=256, bias=True)\n",
      "      )\n",
      "      (1): BidirectionalLSTM(\n",
      "        (rnn): LSTM(256, 256, batch_first=True, bidirectional=True)\n",
      "        (linear): Linear(in_features=512, out_features=256, bias=True)\n",
      "      )\n",
      "    )\n",
      "    (Prediction): Attention(\n",
      "      (attention_cell): AttentionCell(\n",
      "        (i2h): Linear(in_features=256, out_features=256, bias=False)\n",
      "        (h2h): Linear(in_features=256, out_features=256, bias=True)\n",
      "        (score): Linear(in_features=256, out_features=1, bias=False)\n",
      "        (rnn): LSTMCell(11431, 256)\n",
      "      )\n",
      "      (generator): Linear(in_features=256, out_features=11175, bias=True)\n",
      "    )\n",
      "  )\n",
      ")\n",
      "Trainable params num :  63821679\n",
      "Optimizer:\n",
      "Adadelta (\n",
      "Parameter Group 0\n",
      "    eps: 1e-08\n",
      "    lr: 1\n",
      "    rho: 0.95\n",
      "    weight_decay: 0\n",
      ")\n"
     ]
    },
    {
     "name": "stderr",
     "output_type": "stream",
     "text": [
      "  0%|          | 1/100000 [01:08<1912:59:16, 68.87s/it]"
     ]
    },
    {
     "name": "stdout",
     "output_type": "stream",
     "text": [
      "[1/100000] Train loss: 9.31987, Valid loss: 9.30058, Elapsed_time: 2.21333\n",
      "Current_accuracy : 0.000, Current_norm_ED  : 0.00\n",
      "Best_accuracy    : 0.000, Best_norm_ED     : 0.00\n",
      "--------------------------------------------------------------------------------\n",
      "Ground Truth              | Prediction                | Confidence Score & T/F\n",
      "--------------------------------------------------------------------------------\n",
      "서른                        | 촂촂쳝쳝맨맨맨맨맨맨맨맨맨맨쳝           | 0.0000\tFalse\n",
      "소프트스틸                     | 촂촂촂촂촂촂촂촂촂퇉퇉퇉퇉꾖촂           | 0.0000\tFalse\n",
      "공인중개사                     | 촂촂촂흰흰흰붉붉뢏붉퇉뢏붉붉퇉           | 0.0000\tFalse\n",
      "토건                        | 촂촂촂쵏뷙붉럃붉뢏붉럃뢏붉뢏붉           | 0.0000\tFalse\n",
      "고기손 생갈비                   | 촂촂촂놧놧놧맨맨맨맨맨맨맨맨맨           | 0.0000\tFalse\n",
      "--------------------------------------------------------------------------------\n"
     ]
    },
    {
     "name": "stderr",
     "output_type": "stream",
     "text": [
      "  0%|          | 11/100000 [01:30<74:38:10,  2.69s/it] Exception ignored in: <function _releaseLock at 0x7f44d11c5a60>\n",
      "Traceback (most recent call last):\n",
      "  File \"/home/mmc/anaconda3/envs/OCR/lib/python3.8/logging/__init__.py\", line 223, in _releaseLock\n",
      "    def _releaseLock():\n",
      "KeyboardInterrupt: \n",
      "  0%|          | 20/100000 [02:07<68:11:35,  2.46s/it] "
     ]
    }
   ],
   "source": [
    "# train\n",
    "train(opt)"
   ]
  },
  {
   "cell_type": "markdown",
   "metadata": {},
   "source": [
    "### Dacon 데이터로 2차 학습\n",
    "외부데이터로 학습된 1차 학습에서 가장 좋은 정확도를 보인 모델을 불러와 </br>\n",
    "오타, 띄어쓰기, 이상값 등을 수작업으로 정제한 Dacon Train파일을 학습데이터로 사용하여 추가학습을 진행합니다. </br>\n",
    "이때 train셋은 Dacon Train셋의 -1000번째 까지이며 validation은 Dacon Train셋의 끝에서 1000번째 까지의 데이터를 사용합니다."
   ]
  },
  {
   "cell_type": "code",
   "execution_count": 80,
   "metadata": {
    "collapsed": false,
    "jupyter": {
     "outputs_hidden": false
    }
   },
   "outputs": [],
   "source": [
    "opt['exp_name'] = '{Transformation}-{FeatureExtraction}-{SequenceModeling}-{Prediction}-Seed{manualSeed}'.format(**opt)\n",
    "opt['saved_model'] = 'saved_models/{Transformation}-{FeatureExtraction}-{SequenceModeling}-{Prediction}-Seed{manualSeed}/best_accuracy.pth'.format(**opt)\n",
    "opt['num_iter'] = 1000\n",
    "opt['lr'] = 0.001\n",
    "opt['select_data'] = 'train'\n",
    "opt['valid_data'] = './result/valid'\n",
    "opt['batch_ratio'] = '1'"
   ]
  },
  {
   "cell_type": "code",
   "execution_count": 81,
   "metadata": {
    "collapsed": false,
    "jupyter": {
     "outputs_hidden": false
    }
   },
   "outputs": [
    {
     "name": "stdout",
     "output_type": "stream",
     "text": [
      "Filtering the images containing characters which are not in opt.character\n",
      "Filtering the images whose label is longer than opt.batch_max_length\n",
      "--------------------------------------------------------------------------------\n",
      "dataset_root: ./result/\n",
      "opt.select_data: ['train']\n",
      "opt.batch_ratio: ['1']\n",
      "--------------------------------------------------------------------------------\n",
      "dataset_root:    ./result/\t dataset: train\n",
      "sub-directory:\t/train\t num samples: 11120\n",
      "sub-directory:\t/htrain\t num samples: 1368\n",
      "num total samples of train: 12488 x 1 (total_data_usage_ratio) = 12488\n",
      "num samples of train per batch: 256 x 1.0 (batch_ratio) = 256\n",
      "--------------------------------------------------------------------------------\n",
      "Total_batch_size: 256 = 256\n",
      "--------------------------------------------------------------------------------\n",
      "dataset_root:    ./result/train\t dataset: /\n",
      "sub-directory:\t/.\t num samples: 11120\n",
      "--------------------------------------------------------------------------------\n",
      "model input parameters 256 256 20 1 512 256 11175 15 TPS ResNet BiLSTM Attn\n",
      "Skip Transformation.LocalizationNetwork.localization_fc2.weight as it is already initialized\n",
      "Skip Transformation.LocalizationNetwork.localization_fc2.bias as it is already initialized\n",
      "loading pretrained model from saved_models/TPS-ResNet-BiLSTM-Attn-Seed1111/best_accuracy.pth\n",
      "Model:\n",
      "DataParallel(\n",
      "  (module): Model(\n",
      "    (Transformation): TPS_SpatialTransformerNetwork(\n",
      "      (LocalizationNetwork): LocalizationNetwork(\n",
      "        (conv): Sequential(\n",
      "          (0): Conv2d(1, 64, kernel_size=(3, 3), stride=(1, 1), padding=(1, 1), bias=False)\n",
      "          (1): BatchNorm2d(64, eps=1e-05, momentum=0.1, affine=True, track_running_stats=True)\n",
      "          (2): ReLU(inplace=True)\n",
      "          (3): MaxPool2d(kernel_size=2, stride=2, padding=0, dilation=1, ceil_mode=False)\n",
      "          (4): Conv2d(64, 128, kernel_size=(3, 3), stride=(1, 1), padding=(1, 1), bias=False)\n",
      "          (5): BatchNorm2d(128, eps=1e-05, momentum=0.1, affine=True, track_running_stats=True)\n",
      "          (6): ReLU(inplace=True)\n",
      "          (7): MaxPool2d(kernel_size=2, stride=2, padding=0, dilation=1, ceil_mode=False)\n",
      "          (8): Conv2d(128, 256, kernel_size=(3, 3), stride=(1, 1), padding=(1, 1), bias=False)\n",
      "          (9): BatchNorm2d(256, eps=1e-05, momentum=0.1, affine=True, track_running_stats=True)\n",
      "          (10): ReLU(inplace=True)\n",
      "          (11): MaxPool2d(kernel_size=2, stride=2, padding=0, dilation=1, ceil_mode=False)\n",
      "          (12): Conv2d(256, 512, kernel_size=(3, 3), stride=(1, 1), padding=(1, 1), bias=False)\n",
      "          (13): BatchNorm2d(512, eps=1e-05, momentum=0.1, affine=True, track_running_stats=True)\n",
      "          (14): ReLU(inplace=True)\n",
      "          (15): AdaptiveAvgPool2d(output_size=1)\n",
      "        )\n",
      "        (localization_fc1): Sequential(\n",
      "          (0): Linear(in_features=512, out_features=256, bias=True)\n",
      "          (1): ReLU(inplace=True)\n",
      "        )\n",
      "        (localization_fc2): Linear(in_features=256, out_features=40, bias=True)\n",
      "      )\n",
      "      (GridGenerator): GridGenerator()\n",
      "    )\n",
      "    (FeatureExtraction): ResNet_FeatureExtractor(\n",
      "      (ConvNet): ResNet(\n",
      "        (conv0_1): Conv2d(1, 32, kernel_size=(3, 3), stride=(1, 1), padding=(1, 1), bias=False)\n",
      "        (bn0_1): BatchNorm2d(32, eps=1e-05, momentum=0.1, affine=True, track_running_stats=True)\n",
      "        (conv0_2): Conv2d(32, 64, kernel_size=(3, 3), stride=(1, 1), padding=(1, 1), bias=False)\n",
      "        (bn0_2): BatchNorm2d(64, eps=1e-05, momentum=0.1, affine=True, track_running_stats=True)\n",
      "        (relu): ReLU(inplace=True)\n",
      "        (maxpool1): MaxPool2d(kernel_size=2, stride=2, padding=0, dilation=1, ceil_mode=False)\n",
      "        (layer1): Sequential(\n",
      "          (0): BasicBlock(\n",
      "            (conv1): Conv2d(64, 128, kernel_size=(3, 3), stride=(1, 1), padding=(1, 1), bias=False)\n",
      "            (bn1): BatchNorm2d(128, eps=1e-05, momentum=0.1, affine=True, track_running_stats=True)\n",
      "            (conv2): Conv2d(128, 128, kernel_size=(3, 3), stride=(1, 1), padding=(1, 1), bias=False)\n",
      "            (bn2): BatchNorm2d(128, eps=1e-05, momentum=0.1, affine=True, track_running_stats=True)\n",
      "            (relu): ReLU(inplace=True)\n",
      "            (downsample): Sequential(\n",
      "              (0): Conv2d(64, 128, kernel_size=(1, 1), stride=(1, 1), bias=False)\n",
      "              (1): BatchNorm2d(128, eps=1e-05, momentum=0.1, affine=True, track_running_stats=True)\n",
      "            )\n",
      "          )\n",
      "        )\n",
      "        (conv1): Conv2d(128, 128, kernel_size=(3, 3), stride=(1, 1), padding=(1, 1), bias=False)\n",
      "        (bn1): BatchNorm2d(128, eps=1e-05, momentum=0.1, affine=True, track_running_stats=True)\n",
      "        (maxpool2): MaxPool2d(kernel_size=2, stride=2, padding=0, dilation=1, ceil_mode=False)\n",
      "        (layer2): Sequential(\n",
      "          (0): BasicBlock(\n",
      "            (conv1): Conv2d(128, 256, kernel_size=(3, 3), stride=(1, 1), padding=(1, 1), bias=False)\n",
      "            (bn1): BatchNorm2d(256, eps=1e-05, momentum=0.1, affine=True, track_running_stats=True)\n",
      "            (conv2): Conv2d(256, 256, kernel_size=(3, 3), stride=(1, 1), padding=(1, 1), bias=False)\n",
      "            (bn2): BatchNorm2d(256, eps=1e-05, momentum=0.1, affine=True, track_running_stats=True)\n",
      "            (relu): ReLU(inplace=True)\n",
      "            (downsample): Sequential(\n",
      "              (0): Conv2d(128, 256, kernel_size=(1, 1), stride=(1, 1), bias=False)\n",
      "              (1): BatchNorm2d(256, eps=1e-05, momentum=0.1, affine=True, track_running_stats=True)\n",
      "            )\n",
      "          )\n",
      "          (1): BasicBlock(\n",
      "            (conv1): Conv2d(256, 256, kernel_size=(3, 3), stride=(1, 1), padding=(1, 1), bias=False)\n",
      "            (bn1): BatchNorm2d(256, eps=1e-05, momentum=0.1, affine=True, track_running_stats=True)\n",
      "            (conv2): Conv2d(256, 256, kernel_size=(3, 3), stride=(1, 1), padding=(1, 1), bias=False)\n",
      "            (bn2): BatchNorm2d(256, eps=1e-05, momentum=0.1, affine=True, track_running_stats=True)\n",
      "            (relu): ReLU(inplace=True)\n",
      "          )\n",
      "        )\n",
      "        (conv2): Conv2d(256, 256, kernel_size=(3, 3), stride=(1, 1), padding=(1, 1), bias=False)\n",
      "        (bn2): BatchNorm2d(256, eps=1e-05, momentum=0.1, affine=True, track_running_stats=True)\n",
      "        (maxpool3): MaxPool2d(kernel_size=2, stride=(2, 1), padding=(0, 1), dilation=1, ceil_mode=False)\n",
      "        (layer3): Sequential(\n",
      "          (0): BasicBlock(\n",
      "            (conv1): Conv2d(256, 512, kernel_size=(3, 3), stride=(1, 1), padding=(1, 1), bias=False)\n",
      "            (bn1): BatchNorm2d(512, eps=1e-05, momentum=0.1, affine=True, track_running_stats=True)\n",
      "            (conv2): Conv2d(512, 512, kernel_size=(3, 3), stride=(1, 1), padding=(1, 1), bias=False)\n",
      "            (bn2): BatchNorm2d(512, eps=1e-05, momentum=0.1, affine=True, track_running_stats=True)\n",
      "            (relu): ReLU(inplace=True)\n",
      "            (downsample): Sequential(\n",
      "              (0): Conv2d(256, 512, kernel_size=(1, 1), stride=(1, 1), bias=False)\n",
      "              (1): BatchNorm2d(512, eps=1e-05, momentum=0.1, affine=True, track_running_stats=True)\n",
      "            )\n",
      "          )\n",
      "          (1): BasicBlock(\n",
      "            (conv1): Conv2d(512, 512, kernel_size=(3, 3), stride=(1, 1), padding=(1, 1), bias=False)\n",
      "            (bn1): BatchNorm2d(512, eps=1e-05, momentum=0.1, affine=True, track_running_stats=True)\n",
      "            (conv2): Conv2d(512, 512, kernel_size=(3, 3), stride=(1, 1), padding=(1, 1), bias=False)\n",
      "            (bn2): BatchNorm2d(512, eps=1e-05, momentum=0.1, affine=True, track_running_stats=True)\n",
      "            (relu): ReLU(inplace=True)\n",
      "          )\n",
      "          (2): BasicBlock(\n",
      "            (conv1): Conv2d(512, 512, kernel_size=(3, 3), stride=(1, 1), padding=(1, 1), bias=False)\n",
      "            (bn1): BatchNorm2d(512, eps=1e-05, momentum=0.1, affine=True, track_running_stats=True)\n",
      "            (conv2): Conv2d(512, 512, kernel_size=(3, 3), stride=(1, 1), padding=(1, 1), bias=False)\n",
      "            (bn2): BatchNorm2d(512, eps=1e-05, momentum=0.1, affine=True, track_running_stats=True)\n",
      "            (relu): ReLU(inplace=True)\n",
      "          )\n",
      "          (3): BasicBlock(\n",
      "            (conv1): Conv2d(512, 512, kernel_size=(3, 3), stride=(1, 1), padding=(1, 1), bias=False)\n",
      "            (bn1): BatchNorm2d(512, eps=1e-05, momentum=0.1, affine=True, track_running_stats=True)\n",
      "            (conv2): Conv2d(512, 512, kernel_size=(3, 3), stride=(1, 1), padding=(1, 1), bias=False)\n",
      "            (bn2): BatchNorm2d(512, eps=1e-05, momentum=0.1, affine=True, track_running_stats=True)\n",
      "            (relu): ReLU(inplace=True)\n",
      "          )\n",
      "          (4): BasicBlock(\n",
      "            (conv1): Conv2d(512, 512, kernel_size=(3, 3), stride=(1, 1), padding=(1, 1), bias=False)\n",
      "            (bn1): BatchNorm2d(512, eps=1e-05, momentum=0.1, affine=True, track_running_stats=True)\n",
      "            (conv2): Conv2d(512, 512, kernel_size=(3, 3), stride=(1, 1), padding=(1, 1), bias=False)\n",
      "            (bn2): BatchNorm2d(512, eps=1e-05, momentum=0.1, affine=True, track_running_stats=True)\n",
      "            (relu): ReLU(inplace=True)\n",
      "          )\n",
      "        )\n",
      "        (conv3): Conv2d(512, 512, kernel_size=(3, 3), stride=(1, 1), padding=(1, 1), bias=False)\n",
      "        (bn3): BatchNorm2d(512, eps=1e-05, momentum=0.1, affine=True, track_running_stats=True)\n",
      "        (layer4): Sequential(\n",
      "          (0): BasicBlock(\n",
      "            (conv1): Conv2d(512, 512, kernel_size=(3, 3), stride=(1, 1), padding=(1, 1), bias=False)\n",
      "            (bn1): BatchNorm2d(512, eps=1e-05, momentum=0.1, affine=True, track_running_stats=True)\n",
      "            (conv2): Conv2d(512, 512, kernel_size=(3, 3), stride=(1, 1), padding=(1, 1), bias=False)\n",
      "            (bn2): BatchNorm2d(512, eps=1e-05, momentum=0.1, affine=True, track_running_stats=True)\n",
      "            (relu): ReLU(inplace=True)\n",
      "          )\n",
      "          (1): BasicBlock(\n",
      "            (conv1): Conv2d(512, 512, kernel_size=(3, 3), stride=(1, 1), padding=(1, 1), bias=False)\n",
      "            (bn1): BatchNorm2d(512, eps=1e-05, momentum=0.1, affine=True, track_running_stats=True)\n",
      "            (conv2): Conv2d(512, 512, kernel_size=(3, 3), stride=(1, 1), padding=(1, 1), bias=False)\n",
      "            (bn2): BatchNorm2d(512, eps=1e-05, momentum=0.1, affine=True, track_running_stats=True)\n",
      "            (relu): ReLU(inplace=True)\n",
      "          )\n",
      "          (2): BasicBlock(\n",
      "            (conv1): Conv2d(512, 512, kernel_size=(3, 3), stride=(1, 1), padding=(1, 1), bias=False)\n",
      "            (bn1): BatchNorm2d(512, eps=1e-05, momentum=0.1, affine=True, track_running_stats=True)\n",
      "            (conv2): Conv2d(512, 512, kernel_size=(3, 3), stride=(1, 1), padding=(1, 1), bias=False)\n",
      "            (bn2): BatchNorm2d(512, eps=1e-05, momentum=0.1, affine=True, track_running_stats=True)\n",
      "            (relu): ReLU(inplace=True)\n",
      "          )\n",
      "        )\n",
      "        (conv4_1): Conv2d(512, 512, kernel_size=(2, 2), stride=(2, 1), padding=(0, 1), bias=False)\n",
      "        (bn4_1): BatchNorm2d(512, eps=1e-05, momentum=0.1, affine=True, track_running_stats=True)\n",
      "        (conv4_2): Conv2d(512, 512, kernel_size=(2, 2), stride=(1, 1), bias=False)\n",
      "        (bn4_2): BatchNorm2d(512, eps=1e-05, momentum=0.1, affine=True, track_running_stats=True)\n",
      "      )\n",
      "    )\n",
      "    (AdaptiveAvgPool): AdaptiveAvgPool2d(output_size=(None, 1))\n",
      "    (modify_GAP): AdaptiveAvgPool2d(output_size=(None, 512))\n",
      "    (SequenceModeling): Sequential(\n",
      "      (0): BidirectionalLSTM(\n",
      "        (rnn): LSTM(512, 256, batch_first=True, bidirectional=True)\n",
      "        (linear): Linear(in_features=512, out_features=256, bias=True)\n",
      "      )\n",
      "      (1): BidirectionalLSTM(\n",
      "        (rnn): LSTM(256, 256, batch_first=True, bidirectional=True)\n",
      "        (linear): Linear(in_features=512, out_features=256, bias=True)\n",
      "      )\n",
      "    )\n",
      "    (Prediction): Attention(\n",
      "      (attention_cell): AttentionCell(\n",
      "        (i2h): Linear(in_features=256, out_features=256, bias=False)\n",
      "        (h2h): Linear(in_features=256, out_features=256, bias=True)\n",
      "        (score): Linear(in_features=256, out_features=1, bias=False)\n",
      "        (rnn): LSTMCell(11431, 256)\n",
      "      )\n",
      "      (generator): Linear(in_features=256, out_features=11175, bias=True)\n",
      "    )\n",
      "  )\n",
      ")\n",
      "Trainable params num :  63821679\n",
      "Optimizer:\n",
      "Adadelta (\n",
      "Parameter Group 0\n",
      "    eps: 1e-08\n",
      "    lr: 0.001\n",
      "    rho: 0.95\n",
      "    weight_decay: 0\n",
      ")\n"
     ]
    },
    {
     "name": "stderr",
     "output_type": "stream",
     "text": [
      "  0%|          | 1/1000 [01:08<19:04:11, 68.72s/it]"
     ]
    },
    {
     "name": "stdout",
     "output_type": "stream",
     "text": [
      "[1/1000] Train loss: 9.24676, Valid loss: 9.29475, Elapsed_time: 3.20164\n",
      "Current_accuracy : 0.000, Current_norm_ED  : 0.00\n",
      "Best_accuracy    : 0.000, Best_norm_ED     : 0.00\n",
      "--------------------------------------------------------------------------------\n",
      "Ground Truth              | Prediction                | Confidence Score & T/F\n",
      "--------------------------------------------------------------------------------\n",
      "동물병원                      | 촂촂촂촂흰맨맨맨맨맨맨맨맨맨맨           | 0.0000\tFalse\n",
      "이상국                       | 퇷팎뷙뷙뷙뷙팎팎뷙꽥뷙퇉퇉퇉맣           | 0.0000\tFalse\n",
      "경희                        | 갢퇷퇷맨퇷퇷옃퇷옃퇷옃샯옃샯옃           | 0.0000\tFalse\n",
      "마사지                       | 퇷퇷뷙뷙뷙뢏붉뢏붉팎탆탆붉뢏붉           | 0.0000\tFalse\n",
      "구                         | 쵏팎팎팎퇷퇷팎맨퇷맨퇷맨퇷맨퇷           | 0.0000\tFalse\n",
      "--------------------------------------------------------------------------------\n"
     ]
    },
    {
     "name": "stderr",
     "output_type": "stream",
     "text": [
      "  1%|          | 8/1000 [01:26<2:59:00, 10.83s/it] \n"
     ]
    },
    {
     "ename": "KeyboardInterrupt",
     "evalue": "",
     "output_type": "error",
     "traceback": [
      "\u001b[0;31m---------------------------------------------------------------------------\u001b[0m",
      "\u001b[0;31mKeyboardInterrupt\u001b[0m                         Traceback (most recent call last)",
      "\u001b[0;32m<ipython-input-81-847519bcc3cd>\u001b[0m in \u001b[0;36m<module>\u001b[0;34m\u001b[0m\n\u001b[0;32m----> 1\u001b[0;31m \u001b[0mtrain\u001b[0m\u001b[0;34m(\u001b[0m\u001b[0mopt\u001b[0m\u001b[0;34m)\u001b[0m\u001b[0;34m\u001b[0m\u001b[0;34m\u001b[0m\u001b[0m\n\u001b[0m",
      "\u001b[0;32m~/SJKO_dir/Dacon/Sw_AI_competition/final_result/hallymocr/train.py\u001b[0m in \u001b[0;36mtrain\u001b[0;34m(opt)\u001b[0m\n\u001b[1;32m    273\u001b[0m             \u001b[0mmodel\u001b[0m\u001b[0;34m.\u001b[0m\u001b[0mzero_grad\u001b[0m\u001b[0;34m(\u001b[0m\u001b[0;34m)\u001b[0m\u001b[0;34m\u001b[0m\u001b[0;34m\u001b[0m\u001b[0m\n\u001b[1;32m    274\u001b[0m             \u001b[0mcost\u001b[0m\u001b[0;34m.\u001b[0m\u001b[0mbackward\u001b[0m\u001b[0;34m(\u001b[0m\u001b[0;34m)\u001b[0m\u001b[0;34m\u001b[0m\u001b[0;34m\u001b[0m\u001b[0m\n\u001b[0;32m--> 275\u001b[0;31m             \u001b[0mtorch\u001b[0m\u001b[0;34m.\u001b[0m\u001b[0mnn\u001b[0m\u001b[0;34m.\u001b[0m\u001b[0mutils\u001b[0m\u001b[0;34m.\u001b[0m\u001b[0mclip_grad_norm_\u001b[0m\u001b[0;34m(\u001b[0m\u001b[0mmodel\u001b[0m\u001b[0;34m.\u001b[0m\u001b[0mparameters\u001b[0m\u001b[0;34m(\u001b[0m\u001b[0;34m)\u001b[0m\u001b[0;34m,\u001b[0m \u001b[0mopt\u001b[0m\u001b[0;34m[\u001b[0m\u001b[0;34m'grad_clip'\u001b[0m\u001b[0;34m]\u001b[0m\u001b[0;34m)\u001b[0m  \u001b[0;31m# gradient clipping with 5 (Default)\u001b[0m\u001b[0;34m\u001b[0m\u001b[0;34m\u001b[0m\u001b[0m\n\u001b[0m\u001b[1;32m    276\u001b[0m             \u001b[0moptimizer\u001b[0m\u001b[0;34m.\u001b[0m\u001b[0mstep\u001b[0m\u001b[0;34m(\u001b[0m\u001b[0;34m)\u001b[0m\u001b[0;34m\u001b[0m\u001b[0;34m\u001b[0m\u001b[0m\n\u001b[1;32m    277\u001b[0m \u001b[0;34m\u001b[0m\u001b[0m\n",
      "\u001b[0;32m~/anaconda3/envs/OCR/lib/python3.8/site-packages/torch/nn/utils/clip_grad.py\u001b[0m in \u001b[0;36mclip_grad_norm_\u001b[0;34m(parameters, max_norm, norm_type)\u001b[0m\n\u001b[1;32m     36\u001b[0m         \u001b[0mtotal_norm\u001b[0m \u001b[0;34m=\u001b[0m \u001b[0mtorch\u001b[0m\u001b[0;34m.\u001b[0m\u001b[0mnorm\u001b[0m\u001b[0;34m(\u001b[0m\u001b[0mtorch\u001b[0m\u001b[0;34m.\u001b[0m\u001b[0mstack\u001b[0m\u001b[0;34m(\u001b[0m\u001b[0;34m[\u001b[0m\u001b[0mtorch\u001b[0m\u001b[0;34m.\u001b[0m\u001b[0mnorm\u001b[0m\u001b[0;34m(\u001b[0m\u001b[0mp\u001b[0m\u001b[0;34m.\u001b[0m\u001b[0mgrad\u001b[0m\u001b[0;34m.\u001b[0m\u001b[0mdetach\u001b[0m\u001b[0;34m(\u001b[0m\u001b[0;34m)\u001b[0m\u001b[0;34m,\u001b[0m \u001b[0mnorm_type\u001b[0m\u001b[0;34m)\u001b[0m\u001b[0;34m.\u001b[0m\u001b[0mto\u001b[0m\u001b[0;34m(\u001b[0m\u001b[0mdevice\u001b[0m\u001b[0;34m)\u001b[0m \u001b[0;32mfor\u001b[0m \u001b[0mp\u001b[0m \u001b[0;32min\u001b[0m \u001b[0mparameters\u001b[0m\u001b[0;34m]\u001b[0m\u001b[0;34m)\u001b[0m\u001b[0;34m,\u001b[0m \u001b[0mnorm_type\u001b[0m\u001b[0;34m)\u001b[0m\u001b[0;34m\u001b[0m\u001b[0;34m\u001b[0m\u001b[0m\n\u001b[1;32m     37\u001b[0m     \u001b[0mclip_coef\u001b[0m \u001b[0;34m=\u001b[0m \u001b[0mmax_norm\u001b[0m \u001b[0;34m/\u001b[0m \u001b[0;34m(\u001b[0m\u001b[0mtotal_norm\u001b[0m \u001b[0;34m+\u001b[0m \u001b[0;36m1e-6\u001b[0m\u001b[0;34m)\u001b[0m\u001b[0;34m\u001b[0m\u001b[0;34m\u001b[0m\u001b[0m\n\u001b[0;32m---> 38\u001b[0;31m     \u001b[0;32mif\u001b[0m \u001b[0mclip_coef\u001b[0m \u001b[0;34m<\u001b[0m \u001b[0;36m1\u001b[0m\u001b[0;34m:\u001b[0m\u001b[0;34m\u001b[0m\u001b[0;34m\u001b[0m\u001b[0m\n\u001b[0m\u001b[1;32m     39\u001b[0m         \u001b[0;32mfor\u001b[0m \u001b[0mp\u001b[0m \u001b[0;32min\u001b[0m \u001b[0mparameters\u001b[0m\u001b[0;34m:\u001b[0m\u001b[0;34m\u001b[0m\u001b[0;34m\u001b[0m\u001b[0m\n\u001b[1;32m     40\u001b[0m             \u001b[0mp\u001b[0m\u001b[0;34m.\u001b[0m\u001b[0mgrad\u001b[0m\u001b[0;34m.\u001b[0m\u001b[0mdetach\u001b[0m\u001b[0;34m(\u001b[0m\u001b[0;34m)\u001b[0m\u001b[0;34m.\u001b[0m\u001b[0mmul_\u001b[0m\u001b[0;34m(\u001b[0m\u001b[0mclip_coef\u001b[0m\u001b[0;34m.\u001b[0m\u001b[0mto\u001b[0m\u001b[0;34m(\u001b[0m\u001b[0mp\u001b[0m\u001b[0;34m.\u001b[0m\u001b[0mgrad\u001b[0m\u001b[0;34m.\u001b[0m\u001b[0mdevice\u001b[0m\u001b[0;34m)\u001b[0m\u001b[0;34m)\u001b[0m\u001b[0;34m\u001b[0m\u001b[0;34m\u001b[0m\u001b[0m\n",
      "\u001b[0;31mKeyboardInterrupt\u001b[0m: "
     ]
    }
   ],
   "source": [
    "train(opt)"
   ]
  },
  {
   "cell_type": "markdown",
   "metadata": {},
   "source": [
    "## 5. 최종 결과"
   ]
  },
  {
   "cell_type": "markdown",
   "metadata": {
    "collapsed": false
   },
   "source": [
    "### 모델 예측"
   ]
  },
  {
   "cell_type": "code",
   "execution_count": 82,
   "metadata": {
    "collapsed": false,
    "jupyter": {
     "outputs_hidden": false
    }
   },
   "outputs": [],
   "source": [
    "# 저장된 모델 load\n",
    "opt['saved_model'] = 'saved_models/{Transformation}-{FeatureExtraction}-{SequenceModeling}-{Prediction}-Seed{manualSeed}/best_accuracy.pth'.format(**opt)\n",
    "opt['test_data'] = './test'"
   ]
  },
  {
   "cell_type": "code",
   "execution_count": 83,
   "metadata": {
    "collapsed": false
   },
   "outputs": [
    {
     "name": "stdout",
     "output_type": "stream",
     "text": [
      "model input parameters 256 256 20 1 512 256 11175 15 TPS ResNet BiLSTM Attn\n",
      "loading pretrained model from saved_models/TPS-ResNet-BiLSTM-Attn-Seed1111/best_accuracy.pth\n"
     ]
    }
   ],
   "source": [
    "result = test(opt)"
   ]
  },
  {
   "cell_type": "markdown",
   "metadata": {},
   "source": [
    "### CSV 파일 생성"
   ]
  },
  {
   "cell_type": "code",
   "execution_count": null,
   "metadata": {
    "collapsed": false,
    "jupyter": {
     "outputs_hidden": false
    }
   },
   "outputs": [],
   "source": [
    "result_csv_path = 'open/sample_submission.csv'\n",
    "result_csv = pd.read_csv(result_csv_path)\n",
    "\n",
    "result_csv['text'] = result"
   ]
  },
  {
   "cell_type": "code",
   "execution_count": null,
   "metadata": {
    "collapsed": false,
    "jupyter": {
     "outputs_hidden": false
    }
   },
   "outputs": [],
   "source": [
    "from datetime import datetime\n",
    "\n",
    "time = datetime.now().strftime('%m%d_%H%M')\n",
    "csv_name = f'{time}.csv'\n",
    "result_csv.to_csv(csv_name, index=False, encoding='utf8')"
   ]
  },
  {
   "cell_type": "code",
   "execution_count": null,
   "metadata": {
    "collapsed": false,
    "jupyter": {
     "outputs_hidden": false
    }
   },
   "outputs": [],
   "source": [
    "pd.read_csv(csv_name)"
   ]
  }
 ],
 "metadata": {
  "kernelspec": {
   "display_name": "Python 3.8.0 ('OCR')",
   "language": "python",
   "name": "python3"
  },
  "language_info": {
   "codemirror_mode": {
    "name": "ipython",
    "version": 3
   },
   "file_extension": ".py",
   "mimetype": "text/x-python",
   "name": "python",
   "nbconvert_exporter": "python",
   "pygments_lexer": "ipython3",
   "version": "3.8.0"
  },
  "vscode": {
   "interpreter": {
    "hash": "3549de9c6a014a86a8995840cd2262d9e3a96b8d8a942d6d05b0149f1c0df094"
   }
  }
 },
 "nbformat": 4,
 "nbformat_minor": 4
}
